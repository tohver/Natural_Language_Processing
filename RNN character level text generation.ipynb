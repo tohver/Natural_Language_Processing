{
 "cells": [
  {
   "cell_type": "code",
   "execution_count": 1,
   "metadata": {},
   "outputs": [],
   "source": [
    "import numpy as np\n",
    "import random"
   ]
  },
  {
   "cell_type": "markdown",
   "metadata": {},
   "source": [
    "#### Functions "
   ]
  },
  {
   "cell_type": "code",
   "execution_count": 2,
   "metadata": {},
   "outputs": [],
   "source": [
    "import numpy as np\n",
    "\n",
    "def softmax(x):\n",
    "    e_x = np.exp(x - np.max(x))\n",
    "    return e_x / e_x.sum(axis=0)\n",
    "\n",
    "def smooth(loss, cur_loss):\n",
    "    return loss * 0.999 + cur_loss * 0.001\n",
    "\n",
    "def print_sample(sample_ix, ix_to_char):\n",
    "    txt = ''.join(ix_to_char[ix] for ix in sample_ix)\n",
    "    txt = txt[0].upper() + txt[1:]  # capitalize first character \n",
    "    print ('%s' % (txt, ), end='')\n",
    "\n",
    "def get_initial_loss(vocab_size, seq_length):\n",
    "    return -np.log(1.0/vocab_size)*seq_length\n",
    "\n",
    "def initialize_parameters(n_a, n_x, n_y):\n",
    "    \"\"\"\n",
    "    Initialize parameters with small random values\n",
    "    Returns:\n",
    "    parameters: dictionary containing:\n",
    "                        Wax - Weight matrix multiplying the input, shape (n_a, n_x)\n",
    "                        Waa - Weight matrix multiplying the hidden state, shape (n_a, n_a)\n",
    "                        Wya - Weight matrix (for the hidden-state to the output), shape (n_y, n_a)\n",
    "                        b -  Bias,  (n_a, 1)\n",
    "                        by - Bias relating the hidden-state to the output, shape (n_y, 1)\n",
    "    \"\"\"\n",
    "    np.random.seed(1)\n",
    "    Wax = np.random.randn(n_a, n_x)*0.01 # input to hidden\n",
    "    Waa = np.random.randn(n_a, n_a)*0.01 # hidden to hidden\n",
    "    Wya = np.random.randn(n_y, n_a)*0.01 # hidden to output\n",
    "    b = np.zeros((n_a, 1)) # hidden bias\n",
    "    by = np.zeros((n_y, 1)) # output bias\n",
    "    \n",
    "    parameters = {\"Wax\": Wax, \"Waa\": Waa, \"Wya\": Wya, \"b\": b,\"by\": by}\n",
    "    \n",
    "    return parameters\n",
    "\n",
    "def rnn_step_forward(parameters, a_prev, x):\n",
    "    \n",
    "    Waa, Wax, Wya, by, b = parameters['Waa'], parameters['Wax'], parameters['Wya'], parameters['by'], parameters['b']\n",
    "    a_next = np.tanh(np.dot(Wax, x) + np.dot(Waa, a_prev) + b) # hidden state\n",
    "    p_t = softmax(np.dot(Wya, a_next) + by) # unnormalized log probabilities for next chars # \n",
    "    \n",
    "    return a_next, p_t\n",
    "\n",
    "def rnn_step_backward(dy, gradients, parameters, x, a, a_prev):\n",
    "    \n",
    "    gradients['dWya'] += np.dot(dy, a.T)\n",
    "    gradients['dby'] += dy\n",
    "    da = np.dot(parameters['Wya'].T, dy) + gradients['da_next'] # backprop into h\n",
    "    daraw = (1 - a * a) * da # backprop through tanh nonlinearity\n",
    "    gradients['db'] += daraw\n",
    "    gradients['dWax'] += np.dot(daraw, x.T)\n",
    "    gradients['dWaa'] += np.dot(daraw, a_prev.T)\n",
    "    gradients['da_next'] = np.dot(parameters['Waa'].T, daraw)\n",
    "    return gradients\n",
    "\n",
    "def update_parameters(parameters, gradients, lr):\n",
    "\n",
    "    parameters['Wax'] += -lr * gradients['dWax']\n",
    "    parameters['Waa'] += -lr * gradients['dWaa']\n",
    "    parameters['Wya'] += -lr * gradients['dWya']\n",
    "    parameters['b']  += -lr * gradients['db']\n",
    "    parameters['by']  += -lr * gradients['dby']\n",
    "    return parameters\n",
    "\n",
    "def rnn_forward(X, Y, a0, parameters, vocab_size = 27):\n",
    "    \n",
    "    # Initialize x, a and y_hat as empty dictionaries\n",
    "    x, a, y_hat = {}, {}, {}\n",
    "    \n",
    "    a[-1] = np.copy(a0)\n",
    "    \n",
    "    # initialize loss to 0\n",
    "    loss = 0\n",
    "    \n",
    "    for t in range(len(X)):\n",
    "        \n",
    "        # Set x[t] to be the one-hot vector representation of the t'th character in X.\n",
    "        # if X[t] == None, we just have x[t]=0  => input for the first timestep to the zero vector. \n",
    "        x[t] = np.zeros((vocab_size,1)) \n",
    "        if (X[t] != None):\n",
    "            x[t][X[t]] = 1\n",
    "        \n",
    "        # one step forward \n",
    "        a[t], y_hat[t] = rnn_step_forward(parameters, a[t-1], x[t])\n",
    "        \n",
    "        # Update the loss by substracting the cross-entropy of this time-step from it.\n",
    "        loss -= np.log(y_hat[t][Y[t],0])\n",
    "        \n",
    "    cache = (y_hat, a, x)\n",
    "        \n",
    "    return loss, cache\n",
    "\n",
    "def rnn_backward(X, Y, parameters, cache):\n",
    "    # Initialize gradients as an empty dictionary\n",
    "    gradients = {}\n",
    "    \n",
    "    # Retrieve from cache and parameters\n",
    "    (y_hat, a, x) = cache\n",
    "    Waa, Wax, Wya, by, b = parameters['Waa'], parameters['Wax'], parameters['Wya'], parameters['by'], parameters['b']\n",
    "    \n",
    "    # each one should be initialized to zeros of the same dimension as its corresponding parameter\n",
    "    gradients['dWax'], gradients['dWaa'], gradients['dWya'] = np.zeros_like(Wax), np.zeros_like(Waa), np.zeros_like(Wya)\n",
    "    gradients['db'], gradients['dby'] = np.zeros_like(b), np.zeros_like(by)\n",
    "    gradients['da_next'] = np.zeros_like(a[0])\n",
    "    \n",
    "    ### START CODE HERE ###\n",
    "    # Backpropagate through time\n",
    "    for t in reversed(range(len(X))):\n",
    "        dy = np.copy(y_hat[t])\n",
    "        dy[Y[t]] -= 1\n",
    "        gradients = rnn_step_backward(dy, gradients, parameters, x[t], a[t], a[t-1])\n",
    "    ### END CODE HERE ###\n",
    "    \n",
    "    return gradients, a\n",
    " "
   ]
  },
  {
   "cell_type": "markdown",
   "metadata": {},
   "source": [
    "#### Dataset, preprocessing "
   ]
  },
  {
   "cell_type": "code",
   "execution_count": 3,
   "metadata": {},
   "outputs": [],
   "source": [
    "data=open('dinos.txt', 'r').read()"
   ]
  },
  {
   "cell_type": "code",
   "execution_count": 4,
   "metadata": {},
   "outputs": [],
   "source": [
    "data=data.lower()\n",
    "chars=list(set(data))"
   ]
  },
  {
   "cell_type": "code",
   "execution_count": 5,
   "metadata": {},
   "outputs": [
    {
     "data": {
      "text/plain": [
       "['n', 'e', 'j', 'y', 'b', 'o', 'k', 'z']"
      ]
     },
     "execution_count": 5,
     "metadata": {},
     "output_type": "execute_result"
    }
   ],
   "source": [
    "list(set(data))[:8]"
   ]
  },
  {
   "cell_type": "code",
   "execution_count": 6,
   "metadata": {},
   "outputs": [
    {
     "name": "stdout",
     "output_type": "stream",
     "text": [
      "there are 19909 characters and 27 unique characters in the data\n"
     ]
    }
   ],
   "source": [
    "data_size, vocab_size=len(data), len(chars)\n",
    "print(\"there are {} characters and {} unique characters in the data\".format(data_size, vocab_size))"
   ]
  },
  {
   "cell_type": "markdown",
   "metadata": {},
   "source": [
    "index the characters"
   ]
  },
  {
   "cell_type": "code",
   "execution_count": 7,
   "metadata": {},
   "outputs": [
    {
     "name": "stdout",
     "output_type": "stream",
     "text": [
      "{0: '\\n', 1: 'a', 2: 'b', 3: 'c', 4: 'd', 5: 'e', 6: 'f', 7: 'g', 8: 'h', 9: 'i', 10: 'j', 11: 'k', 12: 'l', 13: 'm', 14: 'n', 15: 'o', 16: 'p', 17: 'q', 18: 'r', 19: 's', 20: 't', 21: 'u', 22: 'v', 23: 'w', 24: 'x', 25: 'y', 26: 'z'}\n"
     ]
    }
   ],
   "source": [
    "char_to_ix={a:b for b,a in enumerate(sorted(chars))}\n",
    "ix_to_char={b:a for b,a in enumerate(sorted(chars))}\n",
    "print(ix_to_char)"
   ]
  },
  {
   "cell_type": "markdown",
   "metadata": {},
   "source": [
    "### model \n",
    "- initialization of parameters\n",
    "- forward propagation (compute loss function)\n",
    "- backward propagation (compute the gradients with respect to the loss function)\n",
    "- clip the gradients (avoid exploding gradients) - before updating the parameters. Simple version (range -10, 10 + truncate)\n",
    "- update parameters with gradient descent\n",
    "- return the learned parameters\n",
    "<br><br>\n",
    "X - a list of characters in training set"
   ]
  },
  {
   "cell_type": "markdown",
   "metadata": {},
   "source": [
    "##### numpy.clip(a,a_min, a_max, out=None)\n",
    "''' Clip (limit) the values in an array\n",
    "out: the results will be placed in this array"
   ]
  },
  {
   "cell_type": "code",
   "execution_count": 8,
   "metadata": {},
   "outputs": [],
   "source": [
    "def clip(gradients, maxValue):\n",
    "    dWaa, dWax, dWya, db, dby=gradients['dWaa'], gradients['dWax'], gradients['dWya'], gradients['db'], gradients['dby']\n",
    "    \n",
    "    for i in [dWaa, dWax, dWya, db, dby]:\n",
    "        i=np.clip(i,-maxValue, maxValue, out=i)\n",
    "        \n",
    "    gradients={'dWaa':dWaa, 'dWax':dWax, 'dWya':dWya, 'db':db, 'dby':dby}\n",
    "    return gradients"
   ]
  },
  {
   "cell_type": "code",
   "execution_count": 9,
   "metadata": {},
   "outputs": [
    {
     "name": "stdout",
     "output_type": "stream",
     "text": [
      "gradients[\"dWaa\"][1][2] = 10.0\n",
      "gradients[\"dWax\"][3][1] = -10.0\n",
      "gradients[\"dWya\"][1][2] = 0.2971381536101662\n",
      "gradients[\"db\"][4] = [10.]\n",
      "gradients[\"dby\"][1] = [8.45833407]\n"
     ]
    }
   ],
   "source": [
    "#test\n",
    "np.random.seed(3)\n",
    "dWax = np.random.randn(5,3)*10\n",
    "dWaa = np.random.randn(5,5)*10\n",
    "dWya = np.random.randn(2,5)*10\n",
    "db = np.random.randn(5,1)*10\n",
    "dby = np.random.randn(2,1)*10\n",
    "gradients = {\"dWax\": dWax, \"dWaa\": dWaa, \"dWya\": dWya, \"db\": db, \"dby\": dby}\n",
    "gradients = clip(gradients, 10)\n",
    "print(\"gradients[\\\"dWaa\\\"][1][2] =\", gradients[\"dWaa\"][1][2])\n",
    "print(\"gradients[\\\"dWax\\\"][3][1] =\", gradients[\"dWax\"][3][1])\n",
    "print(\"gradients[\\\"dWya\\\"][1][2] =\", gradients[\"dWya\"][1][2])\n",
    "print(\"gradients[\\\"db\\\"][4] =\", gradients[\"db\"][4])\n",
    "print(\"gradients[\\\"dby\\\"][1] =\", gradients[\"dby\"][1])"
   ]
  },
  {
   "cell_type": "markdown",
   "metadata": {},
   "source": [
    "#### Sampling \n",
    "1. 'dummy' input x1=zeros and a0 =zeros <br>\n",
    "2. forward prop. to get a1 an y_hat_1.\n",
    ":\n",
    "\n",
    "$$ a^{\\langle t+1 \\rangle} = \\tanh(W_{ax}  x^{\\langle t \\rangle } + W_{aa} a^{\\langle t \\rangle } + b)$$\n",
    "$$ z^{\\langle t + 1 \\rangle } = W_{ya}  a^{\\langle t + 1 \\rangle } + b_y$$\n",
    "$$ \\hat{y}^{\\langle t+1 \\rangle } = softmax(z^{\\langle t + 1 \\rangle })$$\n",
    "\n",
    "3 Next character (according to the probability distribution $(\\hat{y}^{\\angle t+1 \\rangle}$)\n"
   ]
  },
  {
   "cell_type": "code",
   "execution_count": 10,
   "metadata": {},
   "outputs": [],
   "source": [
    "def  sample(parameters, char_to_ix):\n",
    "    '''Arguments:\n",
    "    parameters -  dictionary containing the parameters Waa, Wax, Wya, by, and b. \n",
    "    char_to_ix - dictionary mapping each character to an index.\n",
    "    \n",
    "    Returns:\n",
    "    indices - a list of length n containing'''\n",
    "    \n",
    "    # parameters and shapes: \n",
    "    Waa, Wax, Wya, by, b = parameters['Waa'], parameters['Wax'], parameters['Wya'], parameters['by'], parameters['b']\n",
    "    vocab_size=by.shape[0]\n",
    "    n_a=Waa.shape[1]\n",
    "    \n",
    "    # one-hot vector x for the 1.st character, just zeros\n",
    "    x=np.zeros([vocab_size, 1])\n",
    "    a_prev = np.zeros([n_a,1])\n",
    "        \n",
    "    indices = []\n",
    "    idx=-1 # a flag to detect a newline char., initialize: -1\n",
    "    \n",
    "    # Loop over timesteps t (max 50):\n",
    "    # At each timestep = the most probably char. (index) will be appended.\n",
    "    \n",
    "    counter=0\n",
    "    newline=char_to_ix['\\n']\n",
    "    \n",
    "    while(idx!=newline and counter!=50):\n",
    "        a=np.tanh(np.dot(Wax,x)+np.dot(Waa,a_prev)+b)\n",
    "        z=np.dot(Wya,a)+by\n",
    "        y=softmax(z)\n",
    "        \n",
    "        idx=np.random.choice(range(len(y)), p=y.ravel())\n",
    "        \n",
    "        indices.append(idx)\n",
    "        \n",
    "        x=np.zeros([vocab_size,1])\n",
    "        x[idx]=1\n",
    "        \n",
    "        a_prev=a\n",
    "        \n",
    "        counter+=1\n",
    "        \n",
    "    if counter==50:\n",
    "        indices.append(char_to_ix['\\n'])\n",
    "    \n",
    "    return indices"
   ]
  },
  {
   "cell_type": "code",
   "execution_count": 11,
   "metadata": {},
   "outputs": [
    {
     "name": "stdout",
     "output_type": "stream",
     "text": [
      "Sampling: \n",
      "Indices: [12, 23, 24, 14, 7, 2, 10, 23, 25, 12, 3, 24, 15, 24, 3, 20, 3, 17, 4, 0]\n",
      "Characters: ['l', 'w', 'x', 'n', 'g', 'b', 'j', 'w', 'y', 'l', 'c', 'x', 'o', 'x', 'c', 't', 'c', 'q', 'd', '\\n']\n"
     ]
    }
   ],
   "source": [
    "#test\n",
    "np.random.seed(2)\n",
    "_, n_a = 20, 100\n",
    "Wax, Waa, Wya = np.random.randn(n_a, vocab_size), np.random.randn(n_a, n_a), np.random.randn(vocab_size, n_a)\n",
    "b, by = np.random.randn(n_a, 1), np.random.randn(vocab_size, 1)\n",
    "parameters = {\"Wax\": Wax, \"Waa\": Waa, \"Wya\": Wya, \"b\": b, \"by\": by}\n",
    "\n",
    "indices=sample(parameters, char_to_ix)\n",
    "print('Sampling: \\nIndices: {}\\nCharacters: {}'.format(indices, [ix_to_char[i] for i in indices]))"
   ]
  },
  {
   "cell_type": "markdown",
   "metadata": {},
   "source": [
    "#### Gradient descent\n",
    "- compute the loss\n",
    "- compute gradients of the loss with respect to the parameters\n",
    "- clip the gradients if necessary\n",
    "- update parameters"
   ]
  },
  {
   "cell_type": "code",
   "execution_count": 12,
   "metadata": {},
   "outputs": [],
   "source": [
    "# using the previously defined functions\n",
    "def optimize(X,Y,a_prev, parameters, learning_rate=0.01):\n",
    "    '''\n",
    "    Runs  one step of the optimization to train the model\n",
    "    \n",
    "    arguments:\n",
    "    X - list of integers, (they map to characters in the vocabulary).\n",
    "    Y - list of integers\n",
    "    a_prev - previous hidden state\n",
    "    parameters -  dictionary of parameters (Wax, Waa, Wya, b, by)\n",
    "    learning_rate -- learning rate for the model.\n",
    "    Returns:\n",
    "    loss (cross-entropy)\n",
    "    gradients -  dictionary of gradients: dWax, dWaa, dWya, db, dby\n",
    "    a[len(X)-1] -- the last hidden state\n",
    "    '''\n",
    "    #forward prop.\n",
    "    loss, cache=rnn_forward(X,Y,a_prev, parameters)\n",
    "    # backward prop.\n",
    "    gradients, a = rnn_backward(X,Y,parameters, cache)\n",
    "    \n",
    "    #clip\n",
    "    gradients=clip(gradients,5)\n",
    "    \n",
    "    #update parameters\n",
    "    parameters=update_parameters(parameters, gradients, learning_rate)\n",
    "    \n",
    "    return loss, gradients, a[len(X)-1]\n",
    "    "
   ]
  },
  {
   "cell_type": "code",
   "execution_count": 13,
   "metadata": {},
   "outputs": [
    {
     "name": "stdout",
     "output_type": "stream",
     "text": [
      "Loss = 79.42910009643815\n",
      "gradients[\"dWaa\"][1][2] = 5.0\n",
      "np.argmax(gradients[\"dWax\"]) = 38\n",
      "gradients[\"dWya\"][1][2] = -0.09062425821345271\n",
      "gradients[\"db\"][4] = [2.15345883]\n",
      "gradients[\"dby\"][1] = [0.0937813]\n",
      "a_last[4] = [-0.93642386]\n"
     ]
    }
   ],
   "source": [
    "#test\n",
    "vocab_size, n_a = 27, 100\n",
    "a_prev = np.random.randn(n_a, 1)\n",
    "Wax, Waa, Wya = np.random.randn(n_a, vocab_size), np.random.randn(n_a, n_a), np.random.randn(vocab_size, n_a)\n",
    "b, by = np.random.randn(n_a, 1), np.random.randn(vocab_size, 1)\n",
    "parameters = {\"Wax\": Wax, \"Waa\": Waa, \"Wya\": Wya, \"b\": b, \"by\": by}\n",
    "X = [12,3,5,11,22,3]\n",
    "Y = [4,14,11,22,25, 26]\n",
    "\n",
    "loss, gradients, a_last = optimize(X, Y, a_prev, parameters, learning_rate = 0.01)\n",
    "print(\"Loss =\", loss)\n",
    "print(\"gradients[\\\"dWaa\\\"][1][2] =\", gradients[\"dWaa\"][1][2])\n",
    "print(\"np.argmax(gradients[\\\"dWax\\\"]) =\", np.argmax(gradients[\"dWax\"]))\n",
    "print(\"gradients[\\\"dWya\\\"][1][2] =\", gradients[\"dWya\"][1][2])\n",
    "print(\"gradients[\\\"db\\\"][4] =\", gradients[\"db\"][4])\n",
    "print(\"gradients[\\\"dby\\\"][1] =\", gradients[\"dby\"][1])\n",
    "print(\"a_last[4] =\", a_last[4])"
   ]
  },
  {
   "cell_type": "markdown",
   "metadata": {},
   "source": [
    "### model training"
   ]
  },
  {
   "cell_type": "code",
   "execution_count": 14,
   "metadata": {},
   "outputs": [],
   "source": [
    "def model(data, ix_to_char, char_to_ix, num_iterations=35000, n_a=50, dino_names=7, vocab_size=27):  \n",
    "    '''\n",
    "     Trains the model and generates dinosaur names. \n",
    "     Returns: parameters -- learned parameters\n",
    "     '''\n",
    "    # retrieve dimensions from vocab_size\n",
    "    n_x, n_y=vocab_size, vocab_size\n",
    "    \n",
    "    #initialize parameters\n",
    "    parameters=initialize_parameters(n_a, n_x, n_y)\n",
    "    #initialize loss \n",
    "    loss=get_initial_loss(vocab_size, dino_names)\n",
    "    \n",
    "    # build list of training examples\n",
    "    with open('dinos.txt') as f:\n",
    "        examples=f.readlines()\n",
    "    examples=[x.lower().strip() for x in examples]\n",
    "    \n",
    "    # shuffle list of names\n",
    "    np.random.shuffle(examples)\n",
    "    \n",
    "    #initialize the hidden state of lstm\n",
    "    a_prev=np.zeros([n_a,1])\n",
    "    \n",
    "    #optimization loop:\n",
    "    for i in range(num_iterations):\n",
    "        #define one training example (X,Y)\n",
    "        index = i%len(examples)\n",
    "        X = [None]+[char_to_ix[ch] for ch in examples[index]]\n",
    "        Y = X[1:]+[char_to_ix['\\n']]\n",
    "    #  one optimization step: Forward-prop -> Backward-prop -> Clip -> Update parameters\n",
    "    curr_loss, gradients, a_prev = optimize(X,Y,a_prev, parameters, learning_rate=0.01)\n",
    "    \n",
    "    loss = smooth(loss, curr_loss)\n",
    "    \n",
    "    #check every 2000 iterations:\n",
    "    if i%2000==0:\n",
    "        print('iteration: {}, loss: {:.f}'.format(j, loss), '\\n', sep='')\n",
    "        \n",
    "        for name in range(dino_names):\n",
    "            \n",
    "            sample_indices=sample(parameters, char_to_ix)\n",
    "            print_sample(sample_indices, ix_to_char)\n",
    "            \n",
    "        print('\\n')\n",
    "    return parameters\n"
   ]
  },
  {
   "cell_type": "code",
   "execution_count": 15,
   "metadata": {},
   "outputs": [],
   "source": [
    "parameters = model(data, ix_to_char, char_to_ix)"
   ]
  },
  {
   "cell_type": "code",
   "execution_count": null,
   "metadata": {},
   "outputs": [],
   "source": []
  },
  {
   "cell_type": "code",
   "execution_count": null,
   "metadata": {},
   "outputs": [],
   "source": []
  }
 ],
 "metadata": {
  "kernelspec": {
   "display_name": "Python 3",
   "language": "python",
   "name": "python3"
  },
  "language_info": {
   "codemirror_mode": {
    "name": "ipython",
    "version": 3
   },
   "file_extension": ".py",
   "mimetype": "text/x-python",
   "name": "python",
   "nbconvert_exporter": "python",
   "pygments_lexer": "ipython3",
   "version": "3.6.3"
  }
 },
 "nbformat": 4,
 "nbformat_minor": 2
}
