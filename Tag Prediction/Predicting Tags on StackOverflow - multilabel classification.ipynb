{
 "cells": [
  {
   "cell_type": "markdown",
   "metadata": {},
   "source": [
    "# Predict tags on StackOverflow (multilabel classification)\n"
   ]
  },
  {
   "cell_type": "code",
   "execution_count": 1,
   "metadata": {},
   "outputs": [],
   "source": [
    "import sys\n",
    "import nltk\n",
    "from nltk.corpus import stopwords\n",
    "import pandas as pd\n",
    "import numpy as np"
   ]
  },
  {
   "cell_type": "code",
   "execution_count": 2,
   "metadata": {},
   "outputs": [],
   "source": [
    "from ast import literal_eval\n",
    "def read_data(filename):\n",
    "    data = pd.read_csv(filename, sep='\\t')\n",
    "    data['tags'] = data['tags'].apply(literal_eval)\n",
    "    return data"
   ]
  },
  {
   "cell_type": "code",
   "execution_count": 3,
   "metadata": {},
   "outputs": [],
   "source": [
    "train = read_data('data/train.tsv')\n",
    "validation = read_data('data/validation.tsv')\n",
    "test = pd.read_csv('data/test.tsv', sep='\\t')"
   ]
  },
  {
   "cell_type": "code",
   "execution_count": 4,
   "metadata": {},
   "outputs": [
    {
     "data": {
      "text/html": [
       "<div>\n",
       "<style scoped>\n",
       "    .dataframe tbody tr th:only-of-type {\n",
       "        vertical-align: middle;\n",
       "    }\n",
       "\n",
       "    .dataframe tbody tr th {\n",
       "        vertical-align: top;\n",
       "    }\n",
       "\n",
       "    .dataframe thead th {\n",
       "        text-align: right;\n",
       "    }\n",
       "</style>\n",
       "<table border=\"1\" class=\"dataframe\">\n",
       "  <thead>\n",
       "    <tr style=\"text-align: right;\">\n",
       "      <th></th>\n",
       "      <th>title</th>\n",
       "      <th>tags</th>\n",
       "    </tr>\n",
       "  </thead>\n",
       "  <tbody>\n",
       "    <tr>\n",
       "      <th>0</th>\n",
       "      <td>How to draw a stacked dotplot in R?</td>\n",
       "      <td>[r]</td>\n",
       "    </tr>\n",
       "    <tr>\n",
       "      <th>1</th>\n",
       "      <td>mysql select all records where a datetime fiel...</td>\n",
       "      <td>[php, mysql]</td>\n",
       "    </tr>\n",
       "    <tr>\n",
       "      <th>2</th>\n",
       "      <td>How to terminate windows phone 8.1 app</td>\n",
       "      <td>[c#]</td>\n",
       "    </tr>\n",
       "    <tr>\n",
       "      <th>3</th>\n",
       "      <td>get current time in a specific country via jquery</td>\n",
       "      <td>[javascript, jquery]</td>\n",
       "    </tr>\n",
       "    <tr>\n",
       "      <th>4</th>\n",
       "      <td>Configuring Tomcat to Use SSL</td>\n",
       "      <td>[java]</td>\n",
       "    </tr>\n",
       "  </tbody>\n",
       "</table>\n",
       "</div>"
      ],
      "text/plain": [
       "                                               title                  tags\n",
       "0                How to draw a stacked dotplot in R?                   [r]\n",
       "1  mysql select all records where a datetime fiel...          [php, mysql]\n",
       "2             How to terminate windows phone 8.1 app                  [c#]\n",
       "3  get current time in a specific country via jquery  [javascript, jquery]\n",
       "4                      Configuring Tomcat to Use SSL                [java]"
      ]
     },
     "execution_count": 4,
     "metadata": {},
     "output_type": "execute_result"
    }
   ],
   "source": [
    "train.head()"
   ]
  },
  {
   "cell_type": "code",
   "execution_count": 5,
   "metadata": {},
   "outputs": [],
   "source": [
    "X_train, y_train = train['title'].values, train['tags'].values\n",
    "X_val, y_val = validation['title'].values, validation['tags'].values\n",
    "X_test = test['title'].values"
   ]
  },
  {
   "cell_type": "markdown",
   "metadata": {},
   "source": [
    "*let's it be array (.values), not pd.Series*"
   ]
  },
  {
   "cell_type": "markdown",
   "metadata": {},
   "source": [
    "Size of the data:"
   ]
  },
  {
   "cell_type": "code",
   "execution_count": 6,
   "metadata": {},
   "outputs": [
    {
     "name": "stdout",
     "output_type": "stream",
     "text": [
      "length of: X_train: 100000\n",
      "X_val: 30000\n",
      "X_test: 20000\n"
     ]
    }
   ],
   "source": [
    "print('length of: X_train: {}\\nX_val: {}\\nX_test: {}'.format(len(X_train), len(X_val), len(X_test)))"
   ]
  },
  {
   "cell_type": "code",
   "execution_count": 7,
   "metadata": {},
   "outputs": [
    {
     "data": {
      "text/plain": [
       "array([list(['php', 'sql']), list(['javascript']),\n",
       "       list(['ruby-on-rails', 'ruby']), ...,\n",
       "       list(['javascript', 'forms']), list(['ruby']),\n",
       "       list(['iphone', 'ios', 'objective-c', 'facebook'])], dtype=object)"
      ]
     },
     "execution_count": 7,
     "metadata": {},
     "output_type": "execute_result"
    }
   ],
   "source": [
    "y_val"
   ]
  },
  {
   "cell_type": "markdown",
   "metadata": {},
   "source": [
    "### Prepare the text "
   ]
  },
  {
   "cell_type": "code",
   "execution_count": 8,
   "metadata": {},
   "outputs": [],
   "source": [
    "import re"
   ]
  },
  {
   "cell_type": "code",
   "execution_count": 9,
   "metadata": {},
   "outputs": [],
   "source": [
    "# get rid of [](){}\\@,;\n",
    "\n",
    "def prepare_text(text):\n",
    "    ''' \n",
    "    input: string\n",
    "    return: prepared string \n",
    "    '''\n",
    "    replace_by_space=re.compile('[/(){}\\[\\]\\|@,;]')\n",
    "    get_rid=re.compile('[^0-9a-z #+_]')\n",
    "    stop=set(stopwords.words('english'))\n",
    "    \n",
    "    text=text.lower()\n",
    "    # replace the brackets etc. by space\n",
    "    text=replace_by_space.sub(' ',text)\n",
    "    text=get_rid.sub('',text)\n",
    "    text=' '.join(i for i in text.split() if i not in stop)\n",
    "    return text\n",
    "    "
   ]
  },
  {
   "cell_type": "code",
   "execution_count": 10,
   "metadata": {},
   "outputs": [
    {
     "name": "stdout",
     "output_type": "stream",
     "text": [
      "good job\n",
      "good job\n"
     ]
    }
   ],
   "source": [
    "# sanity check\n",
    "\n",
    "text1 = [\"Mantis shrimps - don't throw the fastest PUNCHES in the ocean?\",\n",
    "                \"How to free c++ memory vector<int> * arr?\"]\n",
    "text2 = [\"mantis shrimps dont throw fastest punches ocean\", \n",
    "               \"free c++ memory vectorint arr\"]\n",
    "\n",
    "for t1, t2 in zip(text1, text2):\n",
    "    if prepare_text(t1)==t2:\n",
    "        print('good job')\n",
    "    else: print('something has gone wrong')\n",
    "        "
   ]
  },
  {
   "cell_type": "code",
   "execution_count": 11,
   "metadata": {},
   "outputs": [
    {
     "name": "stdout",
     "output_type": "stream",
     "text": [
      "mantis shrimps dont throw fastest punches ocean\n",
      "free c++ memory vectorint arr\n"
     ]
    }
   ],
   "source": [
    "for i in text1:\n",
    "    print(prepare_text(i))\n",
    "    "
   ]
  },
  {
   "cell_type": "markdown",
   "metadata": {},
   "source": [
    "#### Prepare data "
   ]
  },
  {
   "cell_type": "code",
   "execution_count": 12,
   "metadata": {},
   "outputs": [],
   "source": [
    "X_train=[prepare_text(i) for i in X_train]\n",
    "X_val=[prepare_text(i) for i in X_val]\n",
    "X_test=[prepare_text(i) for i in X_test]"
   ]
  },
  {
   "cell_type": "code",
   "execution_count": 13,
   "metadata": {},
   "outputs": [
    {
     "data": {
      "text/plain": [
       "array([list(['r']), list(['php', 'mysql']), list(['c#']),\n",
       "       list(['javascript', 'jquery']), list(['java'])], dtype=object)"
      ]
     },
     "execution_count": 13,
     "metadata": {},
     "output_type": "execute_result"
    }
   ],
   "source": [
    "y_train[:5]"
   ]
  },
  {
   "cell_type": "code",
   "execution_count": null,
   "metadata": {},
   "outputs": [],
   "source": []
  },
  {
   "cell_type": "code",
   "execution_count": 14,
   "metadata": {},
   "outputs": [
    {
     "name": "stdout",
     "output_type": "stream",
     "text": [
      "X_train: \n",
      " ['draw stacked dotplot r', 'mysql select records datetime field less specified value', 'terminate windows phone 81 app', 'get current time specific country via jquery', 'configuring tomcat use ssl'] \n",
      "X_val:\n",
      " ['odbc_exec always fail', 'access base classes variable within child class', 'contenttype application json required rails', 'sessions sinatra used pass variable', 'getting error type json exist postgresql rake db migrate'] \n",
      "X_test:\n",
      " ['warning mysql_query expects parameter 2 resource object given', 'get click coordinates input typeimage via javascript', 'implement cloud storage media assets zf', 'catcomplete jquerys autocomplete plugin', 'error building android app cordova 31 cli']\n"
     ]
    }
   ],
   "source": [
    "print('X_train: \\n', X_train[:5],'\\nX_val:\\n', X_val[:5],'\\nX_test:\\n', X_test[:5])"
   ]
  },
  {
   "cell_type": "markdown",
   "metadata": {},
   "source": [
    "### Count the frequency (hard way)"
   ]
  },
  {
   "cell_type": "code",
   "execution_count": 15,
   "metadata": {
    "scrolled": true
   },
   "outputs": [
    {
     "data": {
      "text/plain": [
       "defaultdict(int,\n",
       "            {'.net': 3872,\n",
       "             'ajax': 1767,\n",
       "             'algorithm': 419,\n",
       "             'android': 2818,\n",
       "             'angularjs': 1353,\n",
       "             'apache': 441,\n",
       "             'arrays': 2277,\n",
       "             'asp.net': 3939,\n",
       "             'asp.net-mvc': 1244,\n",
       "             'c': 3119,\n",
       "             'c#': 19077,\n",
       "             'c++': 6469,\n",
       "             'class': 509,\n",
       "             'cocoa-touch': 507,\n",
       "             'codeigniter': 786,\n",
       "             'css': 1769,\n",
       "             'csv': 435,\n",
       "             'database': 740,\n",
       "             'date': 560,\n",
       "             'datetime': 557,\n",
       "             'django': 1835,\n",
       "             'dom': 400,\n",
       "             'eclipse': 992,\n",
       "             'entity-framework': 649,\n",
       "             'excel': 443,\n",
       "             'facebook': 508,\n",
       "             'file': 582,\n",
       "             'forms': 872,\n",
       "             'function': 487,\n",
       "             'generics': 420,\n",
       "             'google-maps': 408,\n",
       "             'hibernate': 807,\n",
       "             'html': 4668,\n",
       "             'html5': 842,\n",
       "             'image': 672,\n",
       "             'ios': 3256,\n",
       "             'iphone': 1909,\n",
       "             'java': 18661,\n",
       "             'javascript': 19078,\n",
       "             'jquery': 7510,\n",
       "             'json': 2026,\n",
       "             'jsp': 680,\n",
       "             'laravel': 525,\n",
       "             'linq': 964,\n",
       "             'linux': 793,\n",
       "             'list': 693,\n",
       "             'loops': 389,\n",
       "             'maven': 432,\n",
       "             'mongodb': 350,\n",
       "             'multithreading': 1118,\n",
       "             'mysql': 3092,\n",
       "             'node.js': 771,\n",
       "             'numpy': 502,\n",
       "             'objective-c': 4338,\n",
       "             'oop': 425,\n",
       "             'opencv': 401,\n",
       "             'osx': 490,\n",
       "             'pandas': 479,\n",
       "             'parsing': 403,\n",
       "             'performance': 512,\n",
       "             'php': 13907,\n",
       "             'pointers': 350,\n",
       "             'python': 8940,\n",
       "             'python-2.7': 421,\n",
       "             'python-3.x': 379,\n",
       "             'qt': 451,\n",
       "             'r': 1727,\n",
       "             'regex': 1442,\n",
       "             'rest': 456,\n",
       "             'ruby': 2326,\n",
       "             'ruby-on-rails': 3344,\n",
       "             'ruby-on-rails-3': 692,\n",
       "             'selenium': 431,\n",
       "             'servlets': 498,\n",
       "             'session': 415,\n",
       "             'sockets': 579,\n",
       "             'sorting': 375,\n",
       "             'spring': 1346,\n",
       "             'spring-mvc': 618,\n",
       "             'sql': 1272,\n",
       "             'sql-server': 585,\n",
       "             'string': 1573,\n",
       "             'swift': 1465,\n",
       "             'swing': 759,\n",
       "             'twitter-bootstrap': 501,\n",
       "             'uitableview': 460,\n",
       "             'unit-testing': 449,\n",
       "             'validation': 558,\n",
       "             'vb.net': 1918,\n",
       "             'visual-studio': 574,\n",
       "             'visual-studio-2010': 588,\n",
       "             'wcf': 389,\n",
       "             'web-services': 633,\n",
       "             'windows': 838,\n",
       "             'winforms': 1468,\n",
       "             'wordpress': 478,\n",
       "             'wpf': 1289,\n",
       "             'xaml': 438,\n",
       "             'xcode': 900,\n",
       "             'xml': 1347})"
      ]
     },
     "execution_count": 15,
     "metadata": {},
     "output_type": "execute_result"
    }
   ],
   "source": [
    "from collections import defaultdict\n",
    "tag_number = defaultdict(int)\n",
    "word_number = defaultdict(int)\n",
    "\n",
    "for i in X_train:\n",
    "    for j in i.split():\n",
    "        word_number[j]+=1\n",
    "\n",
    "for i in y_train:\n",
    "    for j in i:\n",
    "        tag_number[j]+=1\n",
    "        \n",
    "tag_number"
   ]
  },
  {
   "cell_type": "code",
   "execution_count": 16,
   "metadata": {},
   "outputs": [
    {
     "name": "stdout",
     "output_type": "stream",
     "text": [
      " 5 most common words:\n",
      "\t['using', 'php', 'java', 'file', 'javascript']\n"
     ]
    }
   ],
   "source": [
    "most_frequent_words=sorted(word_number.items(), key=lambda x: x[1], reverse=True)[:5]\n",
    "most_frequent_tags=sorted(tag_number.items(), key=lambda x: x[1], reverse=True)[:5]\n",
    "\n",
    "print(' 5 most common words:\\n\\t{}'.format([i for i, _ in most_frequent_words]))"
   ]
  },
  {
   "cell_type": "code",
   "execution_count": 17,
   "metadata": {},
   "outputs": [
    {
     "name": "stdout",
     "output_type": "stream",
     "text": [
      "5 most common tags:\n",
      "\t['javascript', 'c#', 'java', 'php', 'python']\n"
     ]
    }
   ],
   "source": [
    "print('5 most common tags:\\n\\t{}'.format([i for i, _ in most_frequent_tags]))"
   ]
  },
  {
   "cell_type": "markdown",
   "metadata": {},
   "source": [
    "## Converting text to a vector "
   ]
  },
  {
   "cell_type": "markdown",
   "metadata": {},
   "source": [
    "### Creating Bag of Words (representation of the text)"
   ]
  },
  {
   "cell_type": "markdown",
   "metadata": {},
   "source": [
    "1. Create a dictionary of N-most popular words in train corpus.\n",
    "2. Create a zero-vector for each title (dimension= N).\n",
    "3. In each text count  words which are in the dictionary (increase by 1 the corresponding coordinate)"
   ]
  },
  {
   "cell_type": "code",
   "execution_count": 18,
   "metadata": {},
   "outputs": [],
   "source": [
    "dict_size=5000\n",
    "index_to_words=sorted(word_number.keys(), key=lambda x: word_number[x], reverse=True)[:dict_size]\n",
    "words_to_index={i:j for j,i in enumerate(index_to_words)}\n",
    "total_words=words_to_index.keys()\n",
    "\n",
    "def bow (text, words_to_index, dict_size):\n",
    "    \n",
    "    word_vector=np.zeros(dict_size)\n",
    "    \n",
    "    for i in text.split():\n",
    "        if i in words_to_index:\n",
    "            word_vector[words_to_index[i]]+=1\n",
    "    return word_vector\n",
    "    "
   ]
  },
  {
   "cell_type": "code",
   "execution_count": 19,
   "metadata": {},
   "outputs": [
    {
     "data": {
      "text/plain": [
       "array([1., 1., 0., 0., 0.])"
      ]
     },
     "execution_count": 19,
     "metadata": {},
     "output_type": "execute_result"
    }
   ],
   "source": [
    "# sanity check:\n",
    "test_vector={'this':0, 'wrong':1, 'group':2, 'are':3}\n",
    "\n",
    "test_text='I think this question is directed to the wrong recipients'\n",
    "bow(test_text, test_vector, 5)"
   ]
  },
  {
   "cell_type": "markdown",
   "metadata": {},
   "source": [
    "TIme to transform the data to sparse representation (csr_matrix)"
   ]
  },
  {
   "cell_type": "code",
   "execution_count": 20,
   "metadata": {},
   "outputs": [],
   "source": [
    "from scipy import sparse as sp\n",
    "X_train_bow=sp.vstack([sp.csr_matrix(bow(text, words_to_index, dict_size)) for text in X_train])\n",
    "X_val_bow=sp.vstack([sp.csr_matrix(bow(text, words_to_index, dict_size)) for text in X_val])\n",
    "X_test_bow=sp.vstack([sp.csr_matrix(bow(text, words_to_index, dict_size)) for text in X_test])"
   ]
  },
  {
   "cell_type": "code",
   "execution_count": 21,
   "metadata": {},
   "outputs": [
    {
     "name": "stdout",
     "output_type": "stream",
     "text": [
      "X_train shape: (100000, 5000)\n",
      "X_val shape: (30000, 5000)\n",
      "X_test shape: (20000, 5000)\n"
     ]
    }
   ],
   "source": [
    "print('X_train shape: {}\\nX_val shape: {}\\nX_test shape: {}'.format(X_train_bow.shape, X_val_bow.shape, X_test_bow.shape))"
   ]
  },
  {
   "cell_type": "code",
   "execution_count": 22,
   "metadata": {},
   "outputs": [
    {
     "data": {
      "text/plain": [
       "scipy.sparse.csr.csr_matrix"
      ]
     },
     "execution_count": 22,
     "metadata": {},
     "output_type": "execute_result"
    }
   ],
   "source": [
    "type(X_train_bow)"
   ]
  },
  {
   "cell_type": "markdown",
   "metadata": {},
   "source": [
    "## TF-IDF"
   ]
  },
  {
   "cell_type": "code",
   "execution_count": 23,
   "metadata": {},
   "outputs": [],
   "source": [
    "from sklearn.feature_extraction.text import TfidfVectorizer"
   ]
  },
  {
   "cell_type": "markdown",
   "metadata": {},
   "source": [
    "The train corpus will be used to train the vectorizer.<br>\n",
    "Tresholds:5 min. occurencies, max.: 90% <br>\n",
    "1-gram + 2-gram"
   ]
  },
  {
   "cell_type": "code",
   "execution_count": 24,
   "metadata": {},
   "outputs": [
    {
     "data": {
      "text/plain": [
       "['warning mysql_query expects parameter 2 resource object given',\n",
       " 'get click coordinates input typeimage via javascript',\n",
       " 'implement cloud storage media assets zf',\n",
       " 'catcomplete jquerys autocomplete plugin',\n",
       " 'error building android app cordova 31 cli']"
      ]
     },
     "execution_count": 24,
     "metadata": {},
     "output_type": "execute_result"
    }
   ],
   "source": [
    "X_test[:5]"
   ]
  },
  {
   "cell_type": "code",
   "execution_count": null,
   "metadata": {},
   "outputs": [],
   "source": []
  },
  {
   "cell_type": "code",
   "execution_count": null,
   "metadata": {},
   "outputs": [],
   "source": []
  },
  {
   "cell_type": "code",
   "execution_count": 25,
   "metadata": {},
   "outputs": [],
   "source": [
    "def tfidf_features (X_train, X_val, X_test):\n",
    "    tfidf_vectorizer=TfidfVectorizer(min_df=5, max_df=0.9, ngram_range=(1,2), token_pattern='(\\S+)')\n",
    "    X_train=tfidf_vectorizer.fit_transform(X_train)\n",
    "    X_val=tfidf_vectorizer.transform(X_val)\n",
    "    X_test=tfidf_vectorizer.transform(X_test)\n",
    "    \n",
    "    return X_train, X_val, X_test, tfidf_vectorizer.vocabulary_"
   ]
  },
  {
   "cell_type": "code",
   "execution_count": 26,
   "metadata": {},
   "outputs": [],
   "source": [
    "X_train_tfidf, X_val_tfidf, X_test_tfidf, tfidf_vocab = tfidf_features(X_train, X_val, X_test)"
   ]
  },
  {
   "cell_type": "code",
   "execution_count": 27,
   "metadata": {},
   "outputs": [],
   "source": [
    "tfidf_reversed_vocab={i:j for j,i in tfidf_vocab.items()}"
   ]
  },
  {
   "cell_type": "code",
   "execution_count": 28,
   "metadata": {},
   "outputs": [
    {
     "data": {
      "text/plain": [
       "(<100000x18300 sparse matrix of type '<class 'numpy.float64'>'\n",
       " \twith 673741 stored elements in Compressed Sparse Row format>,\n",
       " <30000x18300 sparse matrix of type '<class 'numpy.float64'>'\n",
       " \twith 197215 stored elements in Compressed Sparse Row format>,\n",
       " <20000x18300 sparse matrix of type '<class 'numpy.float64'>'\n",
       " \twith 131034 stored elements in Compressed Sparse Row format>,\n",
       " {'draw': 4792,\n",
       "  'stacked': 14941,\n",
       "  'r': 12748,\n",
       "  'mysql': 10394,\n",
       "  'select': 14019,\n",
       "  'records': 13008,\n",
       "  'datetime': 4089,\n",
       "  'field': 5815,\n",
       "  'less': 9077,\n",
       "  'specified': 14801,\n",
       "  'value': 17129,\n",
       "  'mysql select': 10426,\n",
       "  'select records': 14054,\n",
       "  'datetime field': 4093,\n",
       "  'terminate': 15706,\n",
       "  'windows': 17849,\n",
       "  'phone': 11715,\n",
       "  '81': 243,\n",
       "  'app': 887,\n",
       "  'windows phone': 17871,\n",
       "  'phone 81': 11718,\n",
       "  '81 app': 244,\n",
       "  'get': 6669,\n",
       "  'current': 3725,\n",
       "  'time': 15887,\n",
       "  'specific': 14756,\n",
       "  'country': 3531,\n",
       "  'via': 17419,\n",
       "  'jquery': 8651,\n",
       "  'get current': 6700,\n",
       "  'current time': 3742,\n",
       "  'time specific': 15916,\n",
       "  'via jquery': 17433,\n",
       "  'configuring': 3142,\n",
       "  'tomcat': 15979,\n",
       "  'use': 16672,\n",
       "  'ssl': 14927,\n",
       "  'awesome': 1378,\n",
       "  'nested': 10551,\n",
       "  'set': 14326,\n",
       "  'plugin': 11993,\n",
       "  'add': 415,\n",
       "  'new': 10616,\n",
       "  'children': 2590,\n",
       "  'tree': 16059,\n",
       "  'various': 17370,\n",
       "  'levels': 9091,\n",
       "  'add new': 461,\n",
       "  'create': 3554,\n",
       "  'map': 9682,\n",
       "  'json': 8773,\n",
       "  'response': 13398,\n",
       "  'ruby': 13692,\n",
       "  'rails': 12777,\n",
       "  '3': 146,\n",
       "  'json response': 8801,\n",
       "  'ruby rails': 13707,\n",
       "  'rails 3': 12779,\n",
       "  'rspec': 13680,\n",
       "  'test': 15713,\n",
       "  'method': 9894,\n",
       "  'called': 2120,\n",
       "  'rspec test': 13683,\n",
       "  'test method': 15723,\n",
       "  'method called': 9904,\n",
       "  'springboot': 14858,\n",
       "  'lifecycle': 9118,\n",
       "  'exception': 5500,\n",
       "  'import': 7662,\n",
       "  'data': 3836,\n",
       "  'excel': 5482,\n",
       "  'database': 3952,\n",
       "  'using': 16801,\n",
       "  'php': 11729,\n",
       "  'import data': 7665,\n",
       "  'data excel': 3866,\n",
       "  'mysql database': 10404,\n",
       "  'database using': 3982,\n",
       "  'using php': 16976,\n",
       "  'obtaining': 11009,\n",
       "  'object': 10886,\n",
       "  'parameterized': 11447,\n",
       "  'type': 16216,\n",
       "  'without': 17920,\n",
       "  'constructing': 3236,\n",
       "  'class': 2628,\n",
       "  'ipad': 8163,\n",
       "  'selecting': 14093,\n",
       "  'text': 15736,\n",
       "  'inside': 7911,\n",
       "  'input': 7827,\n",
       "  'tap': 15645,\n",
       "  'selecting text': 14098,\n",
       "  'text inside': 15760,\n",
       "  'text input': 15759,\n",
       "  'jquerys': 8744,\n",
       "  'function': 6478,\n",
       "  'function object': 6530,\n",
       "  'eclipse': 4957,\n",
       "  'c++': 1976,\n",
       "  'mingw': 10003,\n",
       "  'program': 12343,\n",
       "  'terminated': 15707,\n",
       "  'eclipse c++': 4959,\n",
       "  'javascript': 8461,\n",
       "  'call': 2079,\n",
       "  'one': 11060,\n",
       "  'prototype': 12454,\n",
       "  'another': 779,\n",
       "  'javascript call': 8475,\n",
       "  'call one': 2098,\n",
       "  'prototype method': 12455,\n",
       "  'method another': 9898,\n",
       "  'intersection': 8089,\n",
       "  'list': 9242,\n",
       "  'sets': 14388,\n",
       "  'longer': 9495,\n",
       "  'able': 270,\n",
       "  'hide': 7238,\n",
       "  'keyboard': 8898,\n",
       "  'ios7': 8157,\n",
       "  'fetch': 5804,\n",
       "  'key': 8878,\n",
       "  'swift': 15458,\n",
       "  'json swift': 8809,\n",
       "  'change': 2365,\n",
       "  'pivot': 11941,\n",
       "  'header': 7162,\n",
       "  'template': 15682,\n",
       "  '8': 237,\n",
       "  'phone 8': 11717,\n",
       "  'connectionstring': 3195,\n",
       "  'encryption': 5155,\n",
       "  'let': 9082,\n",
       "  'ui': 16299,\n",
       "  'refresh': 13098,\n",
       "  'long': 9485,\n",
       "  'running': 13753,\n",
       "  'operation': 11203,\n",
       "  'long running': 9490,\n",
       "  'better': 1562,\n",
       "  'way': 17598,\n",
       "  'execute': 5536,\n",
       "  'file': 5849,\n",
       "  'python': 12531,\n",
       "  'console': 3204,\n",
       "  'output': 11281,\n",
       "  'run': 13722,\n",
       "  'better way': 1564,\n",
       "  'ruby file': 13702,\n",
       "  'file using': 5989,\n",
       "  'using python': 16989,\n",
       "  'python get': 12575,\n",
       "  'console output': 3209,\n",
       "  'file run': 5962,\n",
       "  'run python': 13745,\n",
       "  'make': 9606,\n",
       "  '2': 85,\n",
       "  'thumbnails': 15877,\n",
       "  'codeigniter': 2862,\n",
       "  'java': 8265,\n",
       "  'character': 2445,\n",
       "  'vs': 17540,\n",
       "  'char': 2435,\n",
       "  'memory': 9837,\n",
       "  'usage': 16669,\n",
       "  'memory usage': 9851,\n",
       "  'bootstrap': 1673,\n",
       "  'modal': 10058,\n",
       "  'close': 2792,\n",
       "  'enter': 5187,\n",
       "  'press': 12206,\n",
       "  'bootstrap modal': 1681,\n",
       "  'enter key': 5188,\n",
       "  'key press': 8891,\n",
       "  'linq': 9210,\n",
       "  'query': 12692,\n",
       "  'group': 7061,\n",
       "  'retrieving': 13470,\n",
       "  'percentage': 11678,\n",
       "  'linq query': 9226,\n",
       "  'query group': 12700,\n",
       "  'label': 8942,\n",
       "  'issue': 8189,\n",
       "  'openerp': 11177,\n",
       "  'keep': 8864,\n",
       "  'objects': 10978,\n",
       "  'view': 17456,\n",
       "  'scaling': 13853,\n",
       "  'axis': 1386,\n",
       "  'attributeerror': 1298,\n",
       "  'nonetype': 10722,\n",
       "  'attribute': 1284,\n",
       "  'split': 14818,\n",
       "  'attributeerror nonetype': 1301,\n",
       "  'nonetype object': 10723,\n",
       "  'object attribute': 10892,\n",
       "  'append': 918,\n",
       "  'mat': 9733,\n",
       "  'replace': 13272,\n",
       "  'onclick': 11049,\n",
       "  'jquery replace': 8719,\n",
       "  'redirect': 13033,\n",
       "  'programme': 12366,\n",
       "  'redirect output': 13041,\n",
       "  'accesscontrolalloworigin': 340,\n",
       "  'present': 12201,\n",
       "  'requested': 13336,\n",
       "  'resource': 13381,\n",
       "  'error': 5249,\n",
       "  'accesscontrolalloworigin header': 341,\n",
       "  'requested resource': 13337,\n",
       "  'creating': 3614,\n",
       "  'c#': 1879,\n",
       "  'cannot': 2158,\n",
       "  'implicitly': 7659,\n",
       "  'convert': 3359,\n",
       "  'string': 15127,\n",
       "  'creating json': 3627,\n",
       "  'windows 8': 17852,\n",
       "  '8 c#': 239,\n",
       "  'c# using': 1958,\n",
       "  'cannot implicitly': 2180,\n",
       "  'implicitly convert': 7660,\n",
       "  'convert type': 3413,\n",
       "  'type string': 16259,\n",
       "  'django': 4629,\n",
       "  'modelform': 10095,\n",
       "  'django modelform': 4647,\n",
       "  'show': 14452,\n",
       "  'div': 4596,\n",
       "  'slide': 14610,\n",
       "  'show hide': 14462,\n",
       "  'hide div': 7240,\n",
       "  'div slide': 4616,\n",
       "  'javascript without': 8578,\n",
       "  'without jquery': 17942,\n",
       "  'avoid': 1372,\n",
       "  'busy': 1791,\n",
       "  'laravel': 8960,\n",
       "  '4': 177,\n",
       "  'returns': 13535,\n",
       "  'ajax': 569,\n",
       "  'post': 12119,\n",
       "  'laravel 4': 8961,\n",
       "  'data ajax': 3838,\n",
       "  'ajax post': 588,\n",
       "  'handle': 7108,\n",
       "  'jquery ajax': 8655,\n",
       "  'year': 18256,\n",
       "  'function r': 6542,\n",
       "  'retrofit': 13474,\n",
       "  'singleton': 14572,\n",
       "  'gson': 7073,\n",
       "  'using gson': 16889,\n",
       "  'cpp': 3539,\n",
       "  'mfc': 9979,\n",
       "  'copying': 3466,\n",
       "  'web': 17667,\n",
       "  'reference': 13066,\n",
       "  'project': 12379,\n",
       "  'web reference': 17684,\n",
       "  'new project': 10636,\n",
       "  'top': 15995,\n",
       "  'five': 6186,\n",
       "  'query select': 12716,\n",
       "  'insert': 7874,\n",
       "  'index': 7731,\n",
       "  'insert string': 7895,\n",
       "  'string specific': 15229,\n",
       "  'apache': 839,\n",
       "  'poi': 12010,\n",
       "  'page': 11341,\n",
       "  'format': 6350,\n",
       "  'worksheet': 18064,\n",
       "  'apache poi': 847,\n",
       "  'change page': 2400,\n",
       "  'excel worksheet': 5497,\n",
       "  'tkinter': 15952,\n",
       "  'progress': 12375,\n",
       "  'bar': 1439,\n",
       "  'python tkinter': 12641,\n",
       "  'progress bar': 12376,\n",
       "  'store': 15070,\n",
       "  'image': 7538,\n",
       "  'path': 11609,\n",
       "  'store image': 15076,\n",
       "  'image path': 7588,\n",
       "  'using c#': 16827,\n",
       "  'jdbc': 8595,\n",
       "  'connection': 3176,\n",
       "  'associated': 1247,\n",
       "  'managed': 9651,\n",
       "  'jdbc connection': 8596,\n",
       "  'connection error': 3182,\n",
       "  'multiple': 10236,\n",
       "  'tables': 15602,\n",
       "  'model': 10068,\n",
       "  'yii2': 18267,\n",
       "  'use multiple': 16712,\n",
       "  'multiple tables': 10313,\n",
       "  'tables one': 15605,\n",
       "  'one model': 11095,\n",
       "  'controller': 3327,\n",
       "  'names': 10490,\n",
       "  'aspnet': 1185,\n",
       "  'mvc4': 10386,\n",
       "  'aspnet mvc4': 1203,\n",
       "  'casting': 2290,\n",
       "  'integer': 8017,\n",
       "  'array': 1016,\n",
       "  'integer array': 8018,\n",
       "  'array object': 1088,\n",
       "  'object array': 10890,\n",
       "  'array java': 1072,\n",
       "  'getting': 6865,\n",
       "  'uploading': 16617,\n",
       "  'getting error': 6874,\n",
       "  'error uploading': 5375,\n",
       "  'uploading file': 16618,\n",
       "  'file php': 5949,\n",
       "  'clear': 2728,\n",
       "  'methods': 9967,\n",
       "  'methods java': 9970,\n",
       "  'printing': 12271,\n",
       "  'floats': 6227,\n",
       "  'number': 10816,\n",
       "  'zeros': 18284,\n",
       "  'specific number': 14781,\n",
       "  'simple': 14511,\n",
       "  'c': 1853,\n",
       "  'network': 10604,\n",
       "  'library': 9101,\n",
       "  'simple c': 14514,\n",
       "  'c c++': 1855,\n",
       "  'usr': 17068,\n",
       "  'bin': 1576,\n",
       "  'instead': 7993,\n",
       "  'local': 9402,\n",
       "  'running ruby': 13769,\n",
       "  'usr bin': 17069,\n",
       "  'usr local': 17070,\n",
       "  'bitmap': 1609,\n",
       "  'binary': 1578,\n",
       "  'operations': 11206,\n",
       "  'default': 4191,\n",
       "  'mail': 9578,\n",
       "  'working': 18029,\n",
       "  'entity': 5198,\n",
       "  'framework': 6416,\n",
       "  'distinct': 4588,\n",
       "  'entity framework': 5202,\n",
       "  'framework model': 6430,\n",
       "  'extjs': 5693,\n",
       "  'checked': 2550,\n",
       "  'nodes': 10709,\n",
       "  'submit': 15347,\n",
       "  'get checked': 6687,\n",
       "  'lists': 9316,\n",
       "  'linq select': 9227,\n",
       "  'nested lists': 10565,\n",
       "  'element': 5020,\n",
       "  'pass': 11530,\n",
       "  'values': 17240,\n",
       "  'html': 7320,\n",
       "  'hide element': 7242,\n",
       "  'pass values': 11558,\n",
       "  'values javascript': 17269,\n",
       "  'javascript html': 8515,\n",
       "  'html element': 7339,\n",
       "  'element using': 5044,\n",
       "  'using javascript': 16910,\n",
       "  'javascript jquery': 8522,\n",
       "  'information': 7775,\n",
       "  'dictionary': 4388,\n",
       "  'get information': 6738,\n",
       "  'slidetoggle': 14614,\n",
       "  'display': 4531,\n",
       "  'created': 3607,\n",
       "  'opencv': 11170,\n",
       "  'android': 703,\n",
       "  'display image': 4543,\n",
       "  'instantiating': 7990,\n",
       "  'namespace': 10491,\n",
       "  'wpf': 18075,\n",
       "  'screen': 13897,\n",
       "  'resolution': 13371,\n",
       "  'screen resolution': 13899,\n",
       "  'content': 3275,\n",
       "  'static': 14994,\n",
       "  'table': 15565,\n",
       "  'cell': 2321,\n",
       "  'displayed': 4572,\n",
       "  'ios': 8137,\n",
       "  '9': 246,\n",
       "  'table view': 15600,\n",
       "  'view cell': 17462,\n",
       "  'ios 9': 8143,\n",
       "  'best': 1549,\n",
       "  'autocomplete': 1336,\n",
       "  'suggest': 15403,\n",
       "  'algorithm': 611,\n",
       "  'datastructure': 4032,\n",
       "  'c++ c': 1982,\n",
       "  'backbone': 1402,\n",
       "  'modelsave': 10099,\n",
       "  'sending': 14157,\n",
       "  'put': 12508,\n",
       "  'redirects': 13054,\n",
       "  'given': 6916,\n",
       "  'session': 14301,\n",
       "  'chrome': 2600,\n",
       "  'session php': 14314,\n",
       "  'mvc': 10358,\n",
       "  'razor': 12881,\n",
       "  'missing': 10020,\n",
       "  'collections': 2895,\n",
       "  'form': 6291,\n",
       "  'mvc 4': 10362,\n",
       "  '4 razor': 181,\n",
       "  'form post': 6324,\n",
       "  'date': 4044,\n",
       "  'ddmmyyyy': 4130,\n",
       "  'style': 15318,\n",
       "  'dynamically': 4907,\n",
       "  'linkbutton': 9194,\n",
       "  'affecting': 557,\n",
       "  'others': 11270,\n",
       "  'change style': 2408,\n",
       "  'dynamically created': 4918,\n",
       "  'check': 2486,\n",
       "  'point': 12014,\n",
       "  'line': 9137,\n",
       "  'client': 2766,\n",
       "  'request': 13308,\n",
       "  'fails': 5770,\n",
       "  'timeout': 15928,\n",
       "  'simultaneously': 14546,\n",
       "  'acquire': 366,\n",
       "  'update': 16554,\n",
       "  'graph': 7016,\n",
       "  'matplotlib': 9755,\n",
       "  'data update': 3939,\n",
       "  'graph using': 7019,\n",
       "  'python matplotlib': 12597,\n",
       "  'store value': 15082,\n",
       "  'value string': 17220,\n",
       "  'string array': 15132,\n",
       "  'datatable': 4033,\n",
       "  'inner': 7820,\n",
       "  'join': 8625,\n",
       "  'dynamic': 4871,\n",
       "  'columns': 2951,\n",
       "  'c# datatable': 1904,\n",
       "  'inner join': 7824,\n",
       "  'dynamic columns': 4877,\n",
       "  'correct': 3477,\n",
       "  'adapter': 413,\n",
       "  'pattern': 11628,\n",
       "  'objective': 10968,\n",
       "  'objective c': 10969,\n",
       "  'save': 13810,\n",
       "  'folder': 6241,\n",
       "  'save image': 13819,\n",
       "  'image another': 7541,\n",
       "  'another folder': 796,\n",
       "  'folder using': 6251,\n",
       "  'using ajax': 16804,\n",
       "  'ajax jquery': 581,\n",
       "  'use function': 16696,\n",
       "  'ignore': 7516,\n",
       "  'rows': 13655,\n",
       "  'sorting': 14718,\n",
       "  'specific rows': 14790,\n",
       "  'dom': 4725,\n",
       "  'angular': 740,\n",
       "  'directive': 4475,\n",
       "  'dom element': 4726,\n",
       "  'angular directive': 744,\n",
       "  'rectangles': 13017,\n",
       "  'next': 10664,\n",
       "  'parameters': 11450,\n",
       "  'url': 16631,\n",
       "  'zend': 18280,\n",
       "  'parameters url': 11457,\n",
       "  'inheritance': 7779,\n",
       "  'access': 298,\n",
       "  'problem': 12293,\n",
       "  'inner class': 7821,\n",
       "  'valueerror': 17238,\n",
       "  'match': 9734,\n",
       "  'passing': 11570,\n",
       "  'sockets': 14674,\n",
       "  'passing array': 11574,\n",
       "  'array json': 1075,\n",
       "  'json objects': 8792,\n",
       "  'child': 2572,\n",
       "  'deserializing': 4309,\n",
       "  'xml': 18192,\n",
       "  'child nodes': 2579,\n",
       "  'deserializing xml': 4311,\n",
       "  'xml object': 18212,\n",
       "  'version': 17403,\n",
       "  'application': 940,\n",
       "  'executable': 5533,\n",
       "  'contains': 3267,\n",
       "  'unsupported': 16543,\n",
       "  'architecture': 983,\n",
       "  'i386': 7442,\n",
       "  'app version': 907,\n",
       "  'architecture i386': 984,\n",
       "  'com': 2963,\n",
       "  'array using': 1115,\n",
       "  'using com': 16840,\n",
       "  'urlopen': 16662,\n",
       "  'errno': 5246,\n",
       "  '10061': 52,\n",
       "  'error errno': 5293,\n",
       "  'unique': 16470,\n",
       "  'combination': 2966,\n",
       "  'bind': 1589,\n",
       "  'drop': 4816,\n",
       "  'first': 6159,\n",
       "  'ddl': 4129,\n",
       "  'drop list': 4819,\n",
       "  'list using': 9295,\n",
       "  'using jquery': 16916,\n",
       "  'change first': 2382,\n",
       "  '31': 158,\n",
       "  'encrypted': 5152,\n",
       "  'gem': 6615,\n",
       "  'clause': 2718,\n",
       "  'fields': 5836,\n",
       "  'rails 31': 12781,\n",
       "  'hack': 7101,\n",
       "  'google': 6968,\n",
       "  'maps': 9701,\n",
       "  'api': 853,\n",
       "  'generate': 6624,\n",
       "  'city': 2623,\n",
       "  'state': 14980,\n",
       "  'name': 10457,\n",
       "  'php mysql': 11820,\n",
       "  'google maps': 6981,\n",
       "  'maps api': 9702,\n",
       "  'city state': 2624,\n",
       "  'unknown': 16495,\n",
       "  'target': 15648,\n",
       "  'property': 12414,\n",
       "  'applet': 936,\n",
       "  'mac': 9556,\n",
       "  'os': 11263,\n",
       "  'run java': 13736,\n",
       "  'java applet': 8277,\n",
       "  'mac os': 9558,\n",
       "  'latitude': 9019,\n",
       "  'longitude': 9499,\n",
       "  'latitude longitude': 9020,\n",
       "  'mouseout': 10168,\n",
       "  'listener': 9309,\n",
       "  'wordpress': 17990,\n",
       "  'google map': 6980,\n",
       "  'find': 6068,\n",
       "  'row': 13621,\n",
       "  'quickly': 12740,\n",
       "  'find row': 6111,\n",
       "  'iphone': 8166,\n",
       "  'command': 2990,\n",
       "  'terminal': 15705,\n",
       "  'return': 13476,\n",
       "  'matrix': 9759,\n",
       "  'need': 10533,\n",
       "  'transpose': 16051,\n",
       "  'attach': 1269,\n",
       "  'dataframe': 3995,\n",
       "  'parent': 11461,\n",
       "  'programmatically': 12357,\n",
       "  'd3': 3824,\n",
       "  'js': 8748,\n",
       "  'tick': 15879,\n",
       "  'spacing': 14741,\n",
       "  'gets': 6860,\n",
       "  'messed': 9886,\n",
       "  'month': 10144,\n",
       "  'boundary': 1699,\n",
       "  'hash': 7141,\n",
       "  'object javascript': 10921,\n",
       "  'set timeout': 14377,\n",
       "  'user': 16749,\n",
       "  'fit': 6183,\n",
       "  'needs': 10542,\n",
       "  'change default': 2377,\n",
       "  'user model': 16773,\n",
       "  'serializing': 14221,\n",
       "  'automatically': 1354,\n",
       "  'install': 7954,\n",
       "  'firefox': 6150,\n",
       "  'navbar': 10515,\n",
       "  'auto': 1324,\n",
       "  'layout': 9027,\n",
       "  'constraints': 3233,\n",
       "  'interactive': 8051,\n",
       "  'interface': 8056,\n",
       "  'builder': 1773,\n",
       "  'auto layout': 1330,\n",
       "  'interface builder': 8058,\n",
       "  'kill': 8921,\n",
       "  'process': 12309,\n",
       "  'system': 15520,\n",
       "  'shell': 14432,\n",
       "  'child process': 2584,\n",
       "  'process running': 12317,\n",
       "  'shell command': 14433,\n",
       "  'setting': 14395,\n",
       "  'timezone': 15941,\n",
       "  'cant': 2208,\n",
       "  'recent': 12984,\n",
       "  'cant update': 2238,\n",
       "  'facebook': 5717,\n",
       "  'help': 7194,\n",
       "  'dialog': 4378,\n",
       "  'event': 5418,\n",
       "  'load': 9348,\n",
       "  'browsers': 1753,\n",
       "  'jquery event': 8685,\n",
       "  'event listener': 5436,\n",
       "  'image load': 7579,\n",
       "  'intellij': 8042,\n",
       "  'constant': 3221,\n",
       "  'expression': 5643,\n",
       "  'required': 13345,\n",
       "  'case': 2276,\n",
       "  'android java': 719,\n",
       "  'constant expression': 3224,\n",
       "  'dropdown': 4825,\n",
       "  'based': 1465,\n",
       "  'entries': 5208,\n",
       "  'dropdown select': 4831,\n",
       "  'select based': 14021,\n",
       "  'based database': 1473,\n",
       "  'wont': 17972,\n",
       "  'work': 18004,\n",
       "  'machine': 9560,\n",
       "  'wont work': 17979,\n",
       "  'local machine': 9409,\n",
       "  'pyqt': 12526,\n",
       "  'display data': 4536,\n",
       "  'data mysql': 3897,\n",
       "  'database table': 3979,\n",
       "  'table using': 15597,\n",
       "  'addeventlistener': 485,\n",
       "  'send': 14126,\n",
       "  'thread': 15836,\n",
       "  'send data': 14130,\n",
       "  'data specific': 3926,\n",
       "  'focus': 6236,\n",
       "  'listviewitem': 9332,\n",
       "  'documentgetelementbyid': 4694,\n",
       "  'innerhtml': 7825,\n",
       "  'ie8': 7496,\n",
       "  'working ie8': 18043,\n",
       "  'efficient': 5001,\n",
       "  'int': 7998,\n",
       "  'inverse': 8120,\n",
       "  'convert string': 3406,\n",
       "  'string int': 15188,\n",
       "  'edit': 4978,\n",
       "  'txt': 16214,\n",
       "  'specific line': 14778,\n",
       "  'line txt': 9163,\n",
       "  'txt file': 16215,\n",
       "  'file c': 5867,\n",
       "  'conditionally': 3126,\n",
       "  'filter': 6054,\n",
       "  'iqueryable': 8179,\n",
       "  'generic': 6646,\n",
       "  'repository': 13301,\n",
       "  'type using': 16266,\n",
       "  'using generic': 16877,\n",
       "  'generic repository': 6657,\n",
       "  'repository pattern': 13302,\n",
       "  'get memory': 6762,\n",
       "  'rails app': 12790,\n",
       "  'invalid': 8098,\n",
       "  'indirect': 7759,\n",
       "  'trying': 16110,\n",
       "  'trying convert': 16116,\n",
       "  'c++ java': 2009,\n",
       "  'record': 13002,\n",
       "  'insert multiple': 7886,\n",
       "  'record table': 13005,\n",
       "  'table codeigniter': 15571,\n",
       "  'sql': 14869,\n",
       "  'convert sql': 3404,\n",
       "  'sql query': 14886,\n",
       "  'query linq': 12704,\n",
       "  'password': 11597,\n",
       "  'prompt': 12398,\n",
       "  'regex': 13113,\n",
       "  'needed': 10541,\n",
       "  'dynamic string': 4894,\n",
       "  'string value': 15242,\n",
       "  'play': 11965,\n",
       "  'videos': 17454,\n",
       "  'website': 17733,\n",
       "  'best way': 1559,\n",
       "  'reading': 12941,\n",
       "  'stdin': 15036,\n",
       "  'blocking': 1638,\n",
       "  'reading line': 12949,\n",
       "  'line line': 9156,\n",
       "  'without blocking': 17924,\n",
       "  'video': 17444,\n",
       "  'old': 11040,\n",
       "  'rest': 13414,\n",
       "  'rest api': 13415,\n",
       "  'comma': 2986,\n",
       "  'separated': 14186,\n",
       "  'collection': 2888,\n",
       "  'spring': 14831,\n",
       "  'comma separated': 2988,\n",
       "  'separated string': 14190,\n",
       "  'string java': 15191,\n",
       "  'java collection': 8295,\n",
       "  'spring form': 14846,\n",
       "  'checking': 2558,\n",
       "  'member': 9823,\n",
       "  'struct': 15277,\n",
       "  'c struct': 1874,\n",
       "  'struct array': 15278,\n",
       "  'gridview': 7045,\n",
       "  'export': 5629,\n",
       "  'gridview data': 7050,\n",
       "  'export excel': 5632,\n",
       "  'tinymce': 15944,\n",
       "  'player': 11976,\n",
       "  'media': 9814,\n",
       "  'splash': 14815,\n",
       "  'accepts': 294,\n",
       "  'class use': 2693,\n",
       "  'use spring': 16732,\n",
       "  'csv': 3698,\n",
       "  'stringsplit': 15264,\n",
       "  'due': 4850,\n",
       "  'blank': 1622,\n",
       "  'import csv': 7664,\n",
       "  'csv file': 3700,\n",
       "  'li': 9093,\n",
       "  'ngmodel': 10680,\n",
       "  'start': 14964,\n",
       "  'blackberry': 1620,\n",
       "  'programming': 12368,\n",
       "  'searching': 13982,\n",
       "  'sdk': 13957,\n",
       "  'quick': 12736,\n",
       "  'iphone sdk': 8171,\n",
       "  'directory': 4481,\n",
       "  'c# get': 1922,\n",
       "  'directory name': 4488,\n",
       "  'column': 2919,\n",
       "  'odd': 11030,\n",
       "  'even': 5413,\n",
       "  'numbers': 10853,\n",
       "  'threads': 15852,\n",
       "  'odd even': 11031,\n",
       "  'even numbers': 5414,\n",
       "  'numbers using': 10865,\n",
       "  'using 2': 16802,\n",
       "  'alternatives': 668,\n",
       "  'projects': 12395,\n",
       "  'similar': 14509,\n",
       "  'joomla': 8636,\n",
       "  'drupal': 4844,\n",
       "  'assign': 1235,\n",
       "  'variable': 17300,\n",
       "  'properties': 12408,\n",
       "  'c# dynamic': 1911,\n",
       "  'dynamic variable': 4903,\n",
       "  'dynamic object': 4893,\n",
       "  'get parameters': 6777,\n",
       "  'field value': 5833,\n",
       "  'value object': 17198,\n",
       "  'another object': 804,\n",
       "  'accessing': 345,\n",
       "  'global': 6933,\n",
       "  'onclicklistener': 11057,\n",
       "  'accessing global': 347,\n",
       "  'global variable': 6938,\n",
       "  'variable inside': 17318,\n",
       "  'argument': 993,\n",
       "  'uml': 16361,\n",
       "  'argument list': 997,\n",
       "  'preg_replace': 12186,\n",
       "  'curly': 3720,\n",
       "  'brackets': 1720,\n",
       "  '323': 164,\n",
       "  'bundler': 1786,\n",
       "  'could': 3493,\n",
       "  'compatible': 3041,\n",
       "  'versions': 17412,\n",
       "  'rails 323': 12783,\n",
       "  'could find': 3501,\n",
       "  'exe': 5529,\n",
       "  'c# windows': 1965,\n",
       "  'windows form': 17864,\n",
       "  'junit': 8848,\n",
       "  'report': 13293,\n",
       "  'task': 15652,\n",
       "  'facebooks': 5736,\n",
       "  'sms': 14633,\n",
       "  'broadcast': 1733,\n",
       "  'receiver': 12980,\n",
       "  'takes': 15637,\n",
       "  'highest': 7257,\n",
       "  'priority': 12278,\n",
       "  'reboot': 12973,\n",
       "  'length': 9069,\n",
       "  '0': 25,\n",
       "  'bypass': 1842,\n",
       "  'clientside': 2782,\n",
       "  'validation': 17110,\n",
       "  'clientside validation': 2783,\n",
       "  'rvm': 13787,\n",
       "  'installation': 7963,\n",
       "  'ubuntu': 16290,\n",
       "  'installation error': 7964,\n",
       "  'error ubuntu': 5367,\n",
       "  'trigger': 16078,\n",
       "  'carousel': 2266,\n",
       "  'trigger event': 16081,\n",
       "  'bootstrap carousel': 1676,\n",
       "  'proxy': 12465,\n",
       "  'configuration': 3133,\n",
       "  'unable': 16362,\n",
       "  'redirecttoaction': 13055,\n",
       "  'cant get': 2222,\n",
       "  'iterators': 8237,\n",
       "  'incompatible': 7707,\n",
       "  'destruction': 4326,\n",
       "  'dependent': 4278,\n",
       "  'constructor': 3238,\n",
       "  'constructor call': 3239,\n",
       "  'bad': 1429,\n",
       "  'input line': 7849,\n",
       "  'symfony2': 15494,\n",
       "  'forms': 6381,\n",
       "  'options': 11231,\n",
       "  'use dynamic': 16691,\n",
       "  'select options': 14051,\n",
       "  'notfoundhttpexception': 10751,\n",
       "  'submission': 15346,\n",
       "  'handling': 7122,\n",
       "  'validation multiple': 17120,\n",
       "  'multiple forms': 10263,\n",
       "  'triggers': 16087,\n",
       "  'oracle': 11234,\n",
       "  'mongoose': 10138,\n",
       "  'callback': 2114,\n",
       "  'access specific': 327,\n",
       "  'specific value': 14796,\n",
       "  'well': 17767,\n",
       "  'updating': 16587,\n",
       "  'models': 10096,\n",
       "  '5': 203,\n",
       "  'canvas': 2241,\n",
       "  'issues': 8193,\n",
       "  'html 5': 7321,\n",
       "  'comparison': 3038,\n",
       "  'variables': 17346,\n",
       "  'pointing': 12036,\n",
       "  'parse': 11480,\n",
       "  'parse json': 11486,\n",
       "  'json data': 8777,\n",
       "  'data php': 3904,\n",
       "  'possible': 12102,\n",
       "  'jump': 8846,\n",
       "  'top page': 16000,\n",
       "  'page form': 11355,\n",
       "  'form submit': 6331,\n",
       "  'safely': 13799,\n",
       "  'destroy': 4324,\n",
       "  'window': 17820,\n",
       "  'wxpython': 18146,\n",
       "  'includes': 7703,\n",
       "  'systems': 15548,\n",
       "  'php includes': 11798,\n",
       "  'managepy': 9654,\n",
       "  'runserver': 13777,\n",
       "  'managepy runserver': 9655,\n",
       "  'saving': 13832,\n",
       "  'frames': 6415,\n",
       "  'saving multiple': 13840,\n",
       "  'multiple data': 10252,\n",
       "  'data frames': 3873,\n",
       "  'return function': 13488,\n",
       "  'compilation': 3042,\n",
       "  'found': 6398,\n",
       "  'compilation error': 3043,\n",
       "  'error type': 5365,\n",
       "  'type namespace': 16249,\n",
       "  'namespace name': 10493,\n",
       "  'could found': 3502,\n",
       "  'parsecom': 11490,\n",
       "  'libgdx': 9097,\n",
       "  'implementation': 7648,\n",
       "  'iframe': 7503,\n",
       "  'position': 12090,\n",
       "  'adding': 487,\n",
       "  'javascript adding': 8465,\n",
       "  'adding text': 508,\n",
       "  'text image': 15758,\n",
       "  'image using': 7613,\n",
       "  'using canvas': 16831,\n",
       "  'save value': 13825,\n",
       "  'value drop': 17161,\n",
       "  'calculate': 2062,\n",
       "  'correlation': 3483,\n",
       "  'remove': 13195,\n",
       "  'ones': 11126,\n",
       "  'pandas': 11406,\n",
       "  'python pandas': 12611,\n",
       "  'optimizations': 11219,\n",
       "  'browser': 1738,\n",
       "  'perform': 11682,\n",
       "  'rendered': 13256,\n",
       "  'denied': 4267,\n",
       "  'service': 14270,\n",
       "  'delegate': 4227,\n",
       "  'mail client': 9581,\n",
       "  'client using': 2778,\n",
       "  'count': 3516,\n",
       "  'datagridview': 4010,\n",
       "  'values column': 17250,\n",
       "  'column datagridview': 2929,\n",
       "  'datagridview column': 4014,\n",
       "  'scipy': 13881,\n",
       "  'build': 1767,\n",
       "  'osx': 11268,\n",
       "  'mac osx': 9559,\n",
       "  'ip': 8160,\n",
       "  'address': 514,\n",
       "  'mask': 9725,\n",
       "  'textbox': 15794,\n",
       "  'ip address': 8161,\n",
       "  'vbnet': 17378,\n",
       "  'commands': 3004,\n",
       "  'java library': 8345,\n",
       "  'selected': 14070,\n",
       "  'codebehind': 2856,\n",
       "  'get selected': 6808,\n",
       "  'selected value': 14086,\n",
       "  'value text': 17222,\n",
       "  'text html': 15757,\n",
       "  'html select': 7363,\n",
       "  'restrict': 13434,\n",
       "  'jqgrid': 8650,\n",
       "  'textarea': 15789,\n",
       "  'height': 7183,\n",
       "  'grid': 7036,\n",
       "  'swift 3': 15461,\n",
       "  'editor': 4988,\n",
       "  'serialization': 14210,\n",
       "  'xml serialization': 18220,\n",
       "  'extend': 5661,\n",
       "  'java class': 8291,\n",
       "  'class one': 2678,\n",
       "  'exceptions': 5520,\n",
       "  'guidelines': 7091,\n",
       "  'understand': 16432,\n",
       "  'testng': 15732,\n",
       "  'suite': 15408,\n",
       "  'configure': 3140,\n",
       "  'webpage': 17722,\n",
       "  'excel data': 5487,\n",
       "  'parameter': 11427,\n",
       "  'owin': 11326,\n",
       "  'host': 7288,\n",
       "  'pass parameter': 11550,\n",
       "  'saved': 13829,\n",
       "  'rake': 12834,\n",
       "  'errors': 5386,\n",
       "  'loading': 9386,\n",
       "  'kind': 8925,\n",
       "  'mutex': 10355,\n",
       "  'calculation': 2074,\n",
       "  'entities': 5195,\n",
       "  'linq entities': 9214,\n",
       "  'entities query': 5196,\n",
       "  'difference': 4408,\n",
       "  'cocos2dx': 2823,\n",
       "  'lua': 9546,\n",
       "  'binding': 1594,\n",
       "  'reset': 13357,\n",
       "  'angularjs': 752,\n",
       "  'verify': 17400,\n",
       "  'box': 1705,\n",
       "  'clicked': 2757,\n",
       "  'check box': 2488,\n",
       "  'structure': 15286,\n",
       "  'pointer': 12018,\n",
       "  ...})"
      ]
     },
     "execution_count": 28,
     "metadata": {},
     "output_type": "execute_result"
    }
   ],
   "source": [
    "tfidf_features(X_train, X_val, X_test)"
   ]
  },
  {
   "cell_type": "code",
   "execution_count": 29,
   "metadata": {},
   "outputs": [
    {
     "data": {
      "text/plain": [
       "8265"
      ]
     },
     "execution_count": 29,
     "metadata": {},
     "output_type": "execute_result"
    }
   ],
   "source": [
    "tfidf_vocab['java']"
   ]
  },
  {
   "cell_type": "code",
   "execution_count": 30,
   "metadata": {},
   "outputs": [
    {
     "data": {
      "text/plain": [
       "'java'"
      ]
     },
     "execution_count": 30,
     "metadata": {},
     "output_type": "execute_result"
    }
   ],
   "source": [
    "tfidf_reversed_vocab[8265]"
   ]
  },
  {
   "cell_type": "markdown",
   "metadata": {},
   "source": [
    "## MultiLabel classifier\n",
    "- Possible multiple tags for 1 prediction => labels will be in binary form"
   ]
  },
  {
   "cell_type": "code",
   "execution_count": 31,
   "metadata": {},
   "outputs": [],
   "source": [
    "from sklearn.preprocessing import MultiLabelBinarizer"
   ]
  },
  {
   "cell_type": "code",
   "execution_count": 32,
   "metadata": {},
   "outputs": [],
   "source": [
    "mlb = MultiLabelBinarizer(classes=sorted(tag_number.keys()))"
   ]
  },
  {
   "cell_type": "code",
   "execution_count": 33,
   "metadata": {},
   "outputs": [
    {
     "data": {
      "text/plain": [
       "array([list(['r']), list(['php', 'mysql']), list(['c#']), ...,\n",
       "       list(['python', 'datetime', 'pandas']),\n",
       "       list(['javascript', 'jquery']), list(['java', 'list', 'generics'])],\n",
       "      dtype=object)"
      ]
     },
     "execution_count": 33,
     "metadata": {},
     "output_type": "execute_result"
    }
   ],
   "source": [
    "y_train"
   ]
  },
  {
   "cell_type": "code",
   "execution_count": 34,
   "metadata": {},
   "outputs": [
    {
     "data": {
      "text/plain": [
       "array([list(['php', 'sql']), list(['javascript']),\n",
       "       list(['ruby-on-rails', 'ruby']), ...,\n",
       "       list(['javascript', 'forms']), list(['ruby']),\n",
       "       list(['iphone', 'ios', 'objective-c', 'facebook'])], dtype=object)"
      ]
     },
     "execution_count": 34,
     "metadata": {},
     "output_type": "execute_result"
    }
   ],
   "source": [
    "y_val"
   ]
  },
  {
   "cell_type": "code",
   "execution_count": 35,
   "metadata": {},
   "outputs": [],
   "source": [
    "y_train = mlb.fit_transform(y_train)\n",
    "y_val = mlb.fit_transform(y_val)"
   ]
  },
  {
   "cell_type": "code",
   "execution_count": 36,
   "metadata": {},
   "outputs": [],
   "source": [
    "from sklearn.multiclass import OneVsRestClassifier\n",
    "from sklearn.linear_model import LogisticRegression, RidgeClassifier\n",
    "from sklearn.svm import SVC\n",
    "from sklearn.naive_bayes import GaussianNB\n",
    "from sklearn.neural_network import MLPClassifier\n",
    "from sklearn.decomposition.nmf import NMF\n",
    "from sklearn.neighbors import KNeighborsClassifier\n",
    "from sklearn.ensemble import AdaBoostClassifier"
   ]
  },
  {
   "cell_type": "code",
   "execution_count": 37,
   "metadata": {},
   "outputs": [],
   "source": [
    "def train_classifier(X_train, y_train):\n",
    "    \n",
    "    # LogisticRegression wraped into OneVsRestClassifier.\n",
    "    clf = OneVsRestClassifier(RidgeClassifier(normalize=True))\n",
    "    clf.fit(X_train, y_train)\n",
    "    return clf"
   ]
  },
  {
   "cell_type": "markdown",
   "metadata": {},
   "source": [
    "### Train data "
   ]
  },
  {
   "cell_type": "code",
   "execution_count": 38,
   "metadata": {},
   "outputs": [],
   "source": [
    "classifier_bow = train_classifier(X_train_bow, y_train)\n",
    "classifier_tfidf = train_classifier(X_train_tfidf, y_train)"
   ]
  },
  {
   "cell_type": "markdown",
   "metadata": {},
   "source": [
    "#### Predictions "
   ]
  },
  {
   "cell_type": "code",
   "execution_count": 39,
   "metadata": {},
   "outputs": [],
   "source": [
    "y_val_predicted_labels_bow = classifier_bow.predict(X_val_bow)\n",
    "y_val_predicted_scores_bow = classifier_bow.decision_function(X_val_bow)\n",
    "\n",
    "y_val_predicted_labels_tfidf = classifier_tfidf.predict(X_val_tfidf)\n",
    "y_val_predicted_scores_tfidf = classifier_tfidf.decision_function(X_val_tfidf)"
   ]
  },
  {
   "cell_type": "code",
   "execution_count": null,
   "metadata": {},
   "outputs": [],
   "source": []
  },
  {
   "cell_type": "code",
   "execution_count": 40,
   "metadata": {},
   "outputs": [
    {
     "name": "stdout",
     "output_type": "stream",
     "text": [
      "Title:\todbc_exec always fail\n",
      "True labels:\tphp,sql\n",
      "Predicted labels:\t\n",
      "\n",
      "\n",
      "Title:\taccess base classes variable within child class\n",
      "True labels:\tjavascript\n",
      "Predicted labels:\tclass\n",
      "\n",
      "\n",
      "Title:\tcontenttype application json required rails\n",
      "True labels:\truby,ruby-on-rails\n",
      "Predicted labels:\tjson,ruby,ruby-on-rails,ruby-on-rails-3\n",
      "\n",
      "\n"
     ]
    }
   ],
   "source": [
    "y_val_pred_inversed = mlb.inverse_transform(y_val_predicted_labels_tfidf)\n",
    "y_val_inversed = mlb.inverse_transform(y_val)\n",
    "for i in range(3):\n",
    "    print('Title:\\t{}\\nTrue labels:\\t{}\\nPredicted labels:\\t{}\\n\\n'.format(\n",
    "        X_val[i],\n",
    "        ','.join(y_val_inversed[i]),\n",
    "        ','.join(y_val_pred_inversed[i])\n",
    "    ))"
   ]
  },
  {
   "cell_type": "markdown",
   "metadata": {},
   "source": [
    "### Evaluation\n",
    "- Accuracy\n",
    "- F1-score\n",
    "- Area under ROC-curve\n",
    "- Area under precision-recall curve"
   ]
  },
  {
   "cell_type": "code",
   "execution_count": 41,
   "metadata": {},
   "outputs": [],
   "source": [
    "from sklearn.metrics import accuracy_score\n",
    "from sklearn.metrics import f1_score\n",
    "from sklearn.metrics import roc_auc_score \n",
    "from sklearn.metrics import average_precision_score\n",
    "from sklearn.metrics import recall_score"
   ]
  },
  {
   "cell_type": "code",
   "execution_count": 42,
   "metadata": {},
   "outputs": [],
   "source": [
    "def print_evaluation_scores(y_val, predicted):\n",
    "    \n",
    "    print(accuracy_score(y_val, predicted))\n",
    "    print(f1_score(y_val, predicted, average='weighted'))\n",
    "    print(average_precision_score(y_val, predicted))"
   ]
  },
  {
   "cell_type": "code",
   "execution_count": 43,
   "metadata": {},
   "outputs": [
    {
     "name": "stdout",
     "output_type": "stream",
     "text": [
      "Bag-of-words\n",
      "0.025133333333333334\n",
      "0.4916261560519447\n",
      "0.1872834479094621\n",
      "Tfidf\n",
      "0.2369\n",
      "0.6619924452345246\n",
      "0.36866075165062534\n"
     ]
    }
   ],
   "source": [
    "print('Bag-of-words')\n",
    "print_evaluation_scores(y_val, y_val_predicted_labels_bow)\n",
    "print('Tfidf')\n",
    "print_evaluation_scores(y_val, y_val_predicted_labels_tfidf)"
   ]
  },
  {
   "cell_type": "code",
   "execution_count": 44,
   "metadata": {},
   "outputs": [],
   "source": [
    "from metrics import roc_auc"
   ]
  },
  {
   "cell_type": "code",
   "execution_count": 45,
   "metadata": {},
   "outputs": [
    {
     "data": {
      "image/png": "[encoded data removed]",
      "text/plain": [
       "<matplotlib.figure.Figure at 0x27cc53d8780>"
      ]
     },
     "metadata": {},
     "output_type": "display_data"
    }
   ],
   "source": [
    "n_classes = len(tag_number)\n",
    "roc_auc(y_val, y_val_predicted_scores_bow, n_classes)"
   ]
  },
  {
   "cell_type": "code",
   "execution_count": 46,
   "metadata": {},
   "outputs": [
    {
     "data": {
      "image/png": "[encoded data removed]",
      "text/plain": [
       "<matplotlib.figure.Figure at 0x27cc57f3c88>"
      ]
     },
     "metadata": {},
     "output_type": "display_data"
    }
   ],
   "source": [
    "n_classes = len(tag_number)\n",
    "roc_auc(y_val, y_val_predicted_scores_tfidf, n_classes)"
   ]
  },
  {
   "cell_type": "code",
   "execution_count": null,
   "metadata": {},
   "outputs": [],
   "source": []
  },
  {
   "cell_type": "code",
   "execution_count": 47,
   "metadata": {},
   "outputs": [],
   "source": [
    "test_predictions = classifier_tfidf.predict(X_test_tfidf)######### YOUR CODE HERE #############\n",
    "test_pred_inversed = mlb.inverse_transform(test_predictions)\n",
    "\n",
    "test_predictions_for_submission = '\\n'.join('%i\\t%s' % (i, ','.join(row)) for i, row in enumerate(test_pred_inversed))"
   ]
  },
  {
   "cell_type": "markdown",
   "metadata": {},
   "source": [
    "Look for features (words or n-grams) with the largest weigths in logistic regresson model"
   ]
  },
  {
   "cell_type": "code",
   "execution_count": 48,
   "metadata": {},
   "outputs": [],
   "source": [
    "\n",
    "def print_words_for_tag(classifier, tag, tags_classes, index_to_words, all_words):\n",
    "    \"\"\"\n",
    "        classifier: trained classifier\n",
    "        tag: particular tag\n",
    "        tags_classes: a list of classes names from MultiLabelBinarizer\n",
    "        index_to_words: index_to_words transformation\n",
    "        all_words: all words in the dictionary\n",
    "        \n",
    "        return nothing, just print top 5 positive and top 5 negative words for current tag\n",
    "    \"\"\"\n",
    "    print('Tag:\\t{}'.format(tag))\n",
    "    \n",
    "    est = classifier.estimators_[tags_classes.index(tag)]\n",
    "    top_positive_words = [index_to_words[index] for index in est.coef_.argsort().tolist()[0][-5:]]  # top-5 words sorted by the coefficiens.\n",
    "    top_negative_words = [index_to_words[index] for index in est.coef_.argsort().tolist()[0][:5]] # bottom-5 words  sorted by the coefficients.\n",
    "    print('Top positive words:\\t{}'.format(', '.join(top_positive_words)))\n",
    "    print('Top negative words:\\t{}\\n'.format(', '.join(top_negative_words)))"
   ]
  },
  {
   "cell_type": "code",
   "execution_count": 49,
   "metadata": {},
   "outputs": [
    {
     "name": "stdout",
     "output_type": "stream",
     "text": [
      "Tag:\tc\n",
      "Top positive words:\tpointer, scanf, malloc, c c++, c\n",
      "Top negative words:\tobjective c, objective, java, python, php\n",
      "\n",
      "Tag:\tc++\n",
      "Top positive words:\tmfc, boost, opencv, qt, c++\n",
      "Top negative words:\tjava, python, c#, php, javascript\n",
      "\n",
      "Tag:\tlinux\n",
      "Top positive words:\tubuntu, linux using, kernel space, linux c, linux\n",
      "Top negative words:\trun bash, c#, c unix, javascript, parent process\n",
      "\n"
     ]
    }
   ],
   "source": [
    "print_words_for_tag(classifier_tfidf, 'c', mlb.classes, tfidf_reversed_vocab, total_words)\n",
    "print_words_for_tag(classifier_tfidf, 'c++', mlb.classes, tfidf_reversed_vocab, total_words)\n",
    "print_words_for_tag(classifier_tfidf, 'linux', mlb.classes, tfidf_reversed_vocab, total_words)"
   ]
  },
  {
   "cell_type": "code",
   "execution_count": null,
   "metadata": {},
   "outputs": [],
   "source": []
  }
 ],
 "metadata": {
  "kernelspec": {
   "display_name": "Python 3",
   "language": "python",
   "name": "python3"
  },
  "language_info": {
   "codemirror_mode": {
    "name": "ipython",
    "version": 3
   },
   "file_extension": ".py",
   "mimetype": "text/x-python",
   "name": "python",
   "nbconvert_exporter": "python",
   "pygments_lexer": "ipython3",
   "version": "3.6.3"
  }
 },
 "nbformat": 4,
 "nbformat_minor": 2
}
